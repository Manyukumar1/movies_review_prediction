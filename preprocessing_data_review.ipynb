{
 "cells": [
  {
   "cell_type": "code",
   "execution_count": 321,
   "metadata": {},
   "outputs": [
    {
     "data": {
      "text/plain": [
       "'import codecs\\nfileObj = codecs.open( \"imbd_train_X.txt\", \"r\", \"utf-8\" )\\nu = fileObj.readlines()'"
      ]
     },
     "execution_count": 321,
     "metadata": {},
     "output_type": "execute_result"
    }
   ],
   "source": [
    "\"\"\"import codecs\n",
    "fileObj = codecs.open( \"imbd_train_X.txt\", \"r\", \"utf-8\" )\n",
    "u = fileObj.readlines()\"\"\""
   ]
  },
  {
   "cell_type": "code",
   "execution_count": 324,
   "metadata": {},
   "outputs": [],
   "source": [
    "from nltk.corpus import stopwords\n",
    "from nltk.stem.porter import PorterStemmer\n",
    "from nltk.tokenize import RegexpTokenizer\n",
    "import numpy as np\n"
   ]
  },
  {
   "cell_type": "code",
   "execution_count": 325,
   "metadata": {},
   "outputs": [],
   "source": [
    "tokenizer=RegexpTokenizer(\"[a-z]+\") ## only alphabat not word \n",
    "Tokenizer=RegexpTokenizer(r\"\\w+\")   ## only word\n",
    "word=set(stopwords.words(\"english\"))\n",
    "ps=PorterStemmer()\n"
   ]
  },
  {
   "cell_type": "markdown",
   "metadata": {},
   "source": [
    "# prepare train data"
   ]
  },
  {
   "cell_type": "code",
   "execution_count": 326,
   "metadata": {},
   "outputs": [],
   "source": [
    "import sys\n",
    "reload(sys)\n",
    "sys.setdefaultencoding('utf8')\n",
    "u=open(\"imbd_train_X.txt\",\"r\")\n",
    "d=u.readlines()\n",
    "u=d"
   ]
  },
  {
   "cell_type": "code",
   "execution_count": 327,
   "metadata": {},
   "outputs": [],
   "source": [
    "for ix in range(len(u)):\n",
    "    u[ix]=str(u[ix])\n",
    "    u[ix]=u[ix].lower()\n",
    "    u[ix]=u[ix].replace(\"\\n\",\"\")\n",
    "    u[ix]=u[ix].replace(\"<br /><br />\",\" \")"
   ]
  },
  {
   "cell_type": "code",
   "execution_count": 328,
   "metadata": {},
   "outputs": [],
   "source": [
    "filter_data=[]\n",
    "for ix in range(len(u)):\n",
    "    u[ix]=Tokenizer.tokenize(u[ix])\n",
    "    gg=[ix for ix in u[ix] if len(ix)>2 and ix not in word]\n",
    "    #gg=[ps.stem(token) for token in gg]\n",
    "    gg=\" \".join(gg)\n",
    "    gg=tokenizer.tokenize(gg)\n",
    "    gg=\" \".join(gg)\n",
    "    filter_data.append(gg)\n",
    "    "
   ]
  },
  {
   "cell_type": "code",
   "execution_count": 329,
   "metadata": {},
   "outputs": [],
   "source": [
    "Y_train=open(\"imb_train_Y.txt\",\"r\")\n",
    "Y_train=Y_train.readlines()"
   ]
  },
  {
   "cell_type": "code",
   "execution_count": 330,
   "metadata": {},
   "outputs": [],
   "source": [
    "size=[]\n",
    "c=0\n",
    "cc=[]\n",
    "for ix in filter_data:\n",
    "    jj=ix.split(\" \")\n",
    "    cc.append(c)\n",
    "    c=c+1\n",
    "    size.append(len(jj))"
   ]
  },
  {
   "cell_type": "code",
   "execution_count": 331,
   "metadata": {},
   "outputs": [],
   "source": [
    "import numpy as np"
   ]
  },
  {
   "cell_type": "code",
   "execution_count": 332,
   "metadata": {},
   "outputs": [
    {
     "data": {
      "text/plain": [
       "[<matplotlib.lines.Line2D at 0x7fb858b95d10>]"
      ]
     },
     "execution_count": 332,
     "metadata": {},
     "output_type": "execute_result"
    },
    {
     "data": {
      "image/png": "[encoded data removed]",
      "text/plain": [
       "<Figure size 720x720 with 1 Axes>"
      ]
     },
     "metadata": {},
     "output_type": "display_data"
    }
   ],
   "source": [
    "\n",
    "import matplotlib.pyplot as plt\n",
    "plt.figure(0,(10,10))\n",
    "plt.plot((size))"
   ]
  },
  {
   "cell_type": "code",
   "execution_count": null,
   "metadata": {},
   "outputs": [],
   "source": []
  },
  {
   "cell_type": "code",
   "execution_count": 319,
   "metadata": {},
   "outputs": [],
   "source": [
    "YY_train=[]\n",
    "for ix in range(len(Y_train)):\n",
    "    Y_t=Y_train[ix].replace(\"\\n\",\"\")\n",
    "    YY_train.append(int(Y_t))"
   ]
  },
  {
   "cell_type": "markdown",
   "metadata": {},
   "source": [
    " # prepare test data"
   ]
  },
  {
   "cell_type": "code",
   "execution_count": 334,
   "metadata": {},
   "outputs": [],
   "source": [
    "import sys\n",
    "reload(sys)\n",
    "sys.setdefaultencoding('utf8')\n",
    "u=open(\"imbd_test_X.txt\",\"r\")\n",
    "d=u.readlines()\n",
    "u=d"
   ]
  },
  {
   "cell_type": "code",
   "execution_count": 335,
   "metadata": {},
   "outputs": [],
   "source": [
    "for ix in range(len(u)):\n",
    "    u[ix]=str(u[ix])\n",
    "    u[ix]=u[ix].lower()\n",
    "    u[ix]=u[ix].replace(\"\\n\",\"\")\n",
    "    u[ix]=u[ix].replace(\"<br /><br />\",\" \")"
   ]
  },
  {
   "cell_type": "code",
   "execution_count": 336,
   "metadata": {},
   "outputs": [],
   "source": [
    "filter_test_data=[]\n",
    "for ix in range(len(u)):\n",
    "    u[ix]=Tokenizer.tokenize(u[ix])\n",
    "    gg=[ix for ix in u[ix] if len(ix)>2 and ix not in word]\n",
    "    gg=\" \".join(gg)\n",
    "    gg=tokenizer.tokenize(gg)\n",
    "    gg=\" \".join(gg)\n",
    "    filter_test_data.append(gg)"
   ]
  },
  {
   "cell_type": "code",
   "execution_count": 337,
   "metadata": {},
   "outputs": [],
   "source": [
    "Y_test=open(\"imbd_test_Y.txt\",\"r\")\n",
    "Y_test=Y_test.readlines()"
   ]
  },
  {
   "cell_type": "code",
   "execution_count": 338,
   "metadata": {},
   "outputs": [],
   "source": [
    "YY_test=[]\n",
    "for ix in range(len(Y_test)):\n",
    "    Y_t=Y_test[ix].replace(\"\\n\",\"\")\n",
    "    YY_test.append(int(Y_t))\n",
    "    "
   ]
  }
 ],
 "metadata": {
  "kernelspec": {
   "display_name": "Python 3",
   "language": "python",
   "name": "python3"
  },
  "language_info": {
   "codemirror_mode": {
    "name": "ipython",
    "version": 2
   },
   "file_extension": ".py",
   "mimetype": "text/x-python",
   "name": "python",
   "nbconvert_exporter": "python",
   "pygments_lexer": "ipython2",
   "version": "2.7.15rc1"
  }
 },
 "nbformat": 4,
 "nbformat_minor": 2
}
